{
 "cells": [
  {
   "cell_type": "markdown",
   "metadata": {},
   "source": [
    "Install necessary packages:"
   ]
  },
  {
   "cell_type": "code",
   "execution_count": null,
   "metadata": {},
   "outputs": [],
   "source": [
    "!pip install selenium"
   ]
  },
  {
   "cell_type": "markdown",
   "metadata": {},
   "source": [
    "Import the following modules"
   ]
  },
  {
   "cell_type": "code",
   "execution_count": 122,
   "metadata": {},
   "outputs": [],
   "source": [
    "from selenium import webdriver\n",
    "from selenium.webdriver.common.by import By\n",
    "from selenium.webdriver.chrome.options import Options\n",
    "import time\n",
    "import pandas as pd"
   ]
  },
  {
   "cell_type": "markdown",
   "metadata": {},
   "source": [
    "Open the given URL"
   ]
  },
  {
   "cell_type": "code",
   "execution_count": 52,
   "metadata": {},
   "outputs": [],
   "source": [
    "#options = webdriver.ChromeOptions()\n",
    "#options.add_argument('--headless=new')\n",
    "driver = webdriver.Chrome()\n",
    "url = 'https://www.accuweather.com/en/ph/baguio-city/1-262309_1_al/daily-weather-forecast/1-262309_1_al'\n",
    "\n",
    "driver.get(url)\n",
    "time.sleep(5)"
   ]
  },
  {
   "cell_type": "markdown",
   "metadata": {},
   "source": [
    "Data Scraping"
   ]
  },
  {
   "cell_type": "code",
   "execution_count": 124,
   "metadata": {},
   "outputs": [],
   "source": [
    "date_raw = driver.find_elements(By.CLASS_NAME, 'date') #extract the dates\n",
    "temp_raw = driver.find_elements(By.CLASS_NAME, 'temp') #extract the temperature\n",
    "precip_raw = driver.find_elements(By.CLASS_NAME, 'precip') #extract the precipitation probability \n",
    "condition_raw = driver.find_elements(By.CLASS_NAME, 'phrase') #extract the weather condition\n",
    "realFeel_raw = driver.find_elements(By.CLASS_NAME, 'left') #extract the real feel temperature\n",
    "uvIndAndWind_raw = driver.find_elements(By.CLASS_NAME, 'right') #extract the max UV index and wind"
   ]
  },
  {
   "cell_type": "code",
   "execution_count": 125,
   "metadata": {},
   "outputs": [],
   "source": [
    "data = []\n",
    "for i in range(len(temp)):\n",
    "    [day, dateMMDD] = date_raw[3*i].text.split('\\n')\n",
    "    [tempHigh, tempLow] = temp_raw[i].text.split(' /')\n",
    "    [_, realFeelTemp, _, realFeelShade] = realFeel_raw[i+1].text.split('\\n')\n",
    "    [_, maxUV, _, wind] = uvIndAndWind_raw[i+1].text.split('\\n')\n",
    "    [windDirection, windSpeed] = wind.split(' ', 1)\n",
    "    data.append({\n",
    "        'day': day,\n",
    "        'date': dateMMDD,\n",
    "        'tempHigh': tempHigh,\n",
    "        'tempLow': tempLow,\n",
    "        'condition': condition[i].text,\n",
    "        'precip': precip[i].text,\n",
    "        'realFeel': realFeelTemp,\n",
    "        'realFeelShade': realFeelShade,\n",
    "        'maxUV': maxUV,\n",
    "        'windDirection': windDirection,\n",
    "        'windSpeed': windSpeed\n",
    "    })\n",
    "\n",
    "df = pd.DataFrame(data)\n"
   ]
  },
  {
   "cell_type": "code",
   "execution_count": 129,
   "metadata": {},
   "outputs": [],
   "source": [
    "#save the data to a csv file\n",
    "df.to_csv('weather_data.csv', index=False)"
   ]
  },
  {
   "cell_type": "markdown",
   "metadata": {},
   "source": [
    "Data Cleaning"
   ]
  },
  {
   "cell_type": "code",
   "execution_count": 150,
   "metadata": {},
   "outputs": [
    {
     "data": {
      "text/html": [
       "<div>\n",
       "<style scoped>\n",
       "    .dataframe tbody tr th:only-of-type {\n",
       "        vertical-align: middle;\n",
       "    }\n",
       "\n",
       "    .dataframe tbody tr th {\n",
       "        vertical-align: top;\n",
       "    }\n",
       "\n",
       "    .dataframe thead th {\n",
       "        text-align: right;\n",
       "    }\n",
       "</style>\n",
       "<table border=\"1\" class=\"dataframe\">\n",
       "  <thead>\n",
       "    <tr style=\"text-align: right;\">\n",
       "      <th></th>\n",
       "      <th>date</th>\n",
       "      <th>tempHigh</th>\n",
       "      <th>tempLow</th>\n",
       "      <th>precip</th>\n",
       "      <th>realFeel</th>\n",
       "      <th>realFeelShade</th>\n",
       "      <th>maxUV</th>\n",
       "      <th>windDirection</th>\n",
       "      <th>windSpeed</th>\n",
       "    </tr>\n",
       "  </thead>\n",
       "  <tbody>\n",
       "    <tr>\n",
       "      <th>0</th>\n",
       "      <td>07/25/2024</td>\n",
       "      <td>21</td>\n",
       "      <td>19</td>\n",
       "      <td>100</td>\n",
       "      <td>24</td>\n",
       "      <td>21</td>\n",
       "      <td>4</td>\n",
       "      <td>SW</td>\n",
       "      <td>11</td>\n",
       "    </tr>\n",
       "    <tr>\n",
       "      <th>1</th>\n",
       "      <td>07/26/2024</td>\n",
       "      <td>23</td>\n",
       "      <td>20</td>\n",
       "      <td>96</td>\n",
       "      <td>27</td>\n",
       "      <td>24</td>\n",
       "      <td>5</td>\n",
       "      <td>SW</td>\n",
       "      <td>9</td>\n",
       "    </tr>\n",
       "    <tr>\n",
       "      <th>2</th>\n",
       "      <td>07/27/2024</td>\n",
       "      <td>24</td>\n",
       "      <td>19</td>\n",
       "      <td>97</td>\n",
       "      <td>27</td>\n",
       "      <td>24</td>\n",
       "      <td>4</td>\n",
       "      <td>WSW</td>\n",
       "      <td>7</td>\n",
       "    </tr>\n",
       "    <tr>\n",
       "      <th>3</th>\n",
       "      <td>07/28/2024</td>\n",
       "      <td>22</td>\n",
       "      <td>18</td>\n",
       "      <td>95</td>\n",
       "      <td>25</td>\n",
       "      <td>22</td>\n",
       "      <td>4</td>\n",
       "      <td>SW</td>\n",
       "      <td>6</td>\n",
       "    </tr>\n",
       "    <tr>\n",
       "      <th>4</th>\n",
       "      <td>07/29/2024</td>\n",
       "      <td>22</td>\n",
       "      <td>19</td>\n",
       "      <td>96</td>\n",
       "      <td>26</td>\n",
       "      <td>23</td>\n",
       "      <td>5</td>\n",
       "      <td>WSW</td>\n",
       "      <td>7</td>\n",
       "    </tr>\n",
       "  </tbody>\n",
       "</table>\n",
       "</div>"
      ],
      "text/plain": [
       "         date  tempHigh  tempLow  precip  realFeel  realFeelShade  maxUV  \\\n",
       "0  07/25/2024        21       19     100        24             21      4   \n",
       "1  07/26/2024        23       20      96        27             24      5   \n",
       "2  07/27/2024        24       19      97        27             24      4   \n",
       "3  07/28/2024        22       18      95        25             22      4   \n",
       "4  07/29/2024        22       19      96        26             23      5   \n",
       "\n",
       "  windDirection  windSpeed  \n",
       "0            SW         11  \n",
       "1            SW          9  \n",
       "2           WSW          7  \n",
       "3            SW          6  \n",
       "4           WSW          7  "
      ]
     },
     "execution_count": 150,
     "metadata": {},
     "output_type": "execute_result"
    }
   ],
   "source": [
    "weather_data = pd.read_csv('weather_data.csv')\n",
    "\n",
    "#convert the date column to date format\n",
    "weather_data['date'] = pd.to_datetime(weather_data['date'] + '/2024').dt.strftime('%m/%d/%Y')\n",
    "\n",
    "weather_data['tempHigh'] = weather_data['tempHigh'].str.replace('°', '').astype(int)\n",
    "weather_data['tempLow'] = weather_data['tempLow'].str.replace('°', '').astype(int)\n",
    "weather_data['precip'] = weather_data['precip'].str.replace('%', '').astype(int)\n",
    "weather_data['realFeel'] = weather_data['realFeel'].str.replace('°', '').astype(int)\n",
    "weather_data['realFeelShade'] = weather_data['realFeelShade'].str.replace('°', '').astype(int)\n",
    "weather_data['maxUV'] = weather_data['maxUV'].str.split(' ').str[0].astype(int)\n",
    "weather_data['windSpeed'] = weather_data['windSpeed'].str.split(' ').str[0].astype(int)\n",
    "\n",
    "#drop the day column\n",
    "weather_data = weather_data.drop(columns=['day', 'condition'])\n",
    "\n",
    "weather_data.head()"
   ]
  },
  {
   "cell_type": "code",
   "execution_count": 151,
   "metadata": {},
   "outputs": [],
   "source": [
    "#save the cleaned data to a csv file\n",
    "weather_data.to_csv('weather_data_clean.csv', index=False)"
   ]
  },
  {
   "cell_type": "code",
   "execution_count": null,
   "metadata": {},
   "outputs": [],
   "source": []
  }
 ],
 "metadata": {
  "kernelspec": {
   "display_name": "machine-learning",
   "language": "python",
   "name": "python3"
  },
  "language_info": {
   "codemirror_mode": {
    "name": "ipython",
    "version": 3
   },
   "file_extension": ".py",
   "mimetype": "text/x-python",
   "name": "python",
   "nbconvert_exporter": "python",
   "pygments_lexer": "ipython3",
   "version": "3.12.4"
  }
 },
 "nbformat": 4,
 "nbformat_minor": 2
}
